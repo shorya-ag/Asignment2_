{
  "nbformat": 4,
  "nbformat_minor": 0,
  "metadata": {
    "colab": {
      "provenance": [],
      "authorship_tag": "ABX9TyM3T6LcDCR4iGzUG3WuIigE",
      "include_colab_link": true
    },
    "kernelspec": {
      "name": "python3",
      "display_name": "Python 3"
    },
    "language_info": {
      "name": "python"
    }
  },
  "cells": [
    {
      "cell_type": "markdown",
      "metadata": {
        "id": "view-in-github",
        "colab_type": "text"
      },
      "source": [
        "<a href=\"https://colab.research.google.com/github/shorya-ag/Asignment2_/blob/main/Assignment2.ipynb\" target=\"_parent\"><img src=\"https://colab.research.google.com/assets/colab-badge.svg\" alt=\"Open In Colab\"/></a>"
      ]
    },
    {
      "cell_type": "code",
      "execution_count": 33,
      "metadata": {
        "colab": {
          "base_uri": "https://localhost:8080/"
        },
        "id": "JUcWATq3VMvh",
        "outputId": "2071b6a6-2bf3-456a-f900-f74c2159c4ce"
      },
      "outputs": [
        {
          "output_type": "stream",
          "name": "stdout",
          "text": [
            "Sorted List of integers is  [1, 2, 3]\n",
            "Sorted List of strigs is  ['Aman', 'Ram', 'Shyam']\n",
            "Sorted hetrogenous list will be:  [1, 2, 3, 'Aman', 'Ram', 'Shyam']\n"
          ]
        }
      ],
      "source": [
        "list_of_integers = [] \n",
        "list_of_strings = []\n",
        "L = [\"Ram\", 1, \"Shyam\", 2, \"Aman\", 3]\n",
        "for i in L:\n",
        "  if(type(i) == int):\n",
        "    list_of_integers.append(i)\n",
        "  else:\n",
        "    list_of_strings.append(i)  \n",
        "\n",
        "list_of_strings = sorted(list_of_strings)\n",
        "list_of_integers= sorted(list_of_integers)\n",
        "\n",
        "print(\"Sorted List of integers is \",list_of_integers)\n",
        "print(\"Sorted List of strigs is \",list_of_strings)\n",
        "\n",
        "L = list_of_integers + list_of_strings\n",
        "\n",
        "print(\"Sorted hetrogenous list will be: \",L)\n",
        "\n",
        "    \n",
        "\n"
      ]
    }
  ]
}